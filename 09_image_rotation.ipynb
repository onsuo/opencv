{
 "cells": [
  {
   "attachments": {},
   "cell_type": "markdown",
   "metadata": {},
   "source": [
    "# 9. 이미지 회전"
   ]
  },
  {
   "attachments": {},
   "cell_type": "markdown",
   "metadata": {},
   "source": [
    "## 시계 방향 90도 회전"
   ]
  },
  {
   "cell_type": "code",
   "execution_count": 1,
   "metadata": {},
   "outputs": [],
   "source": [
    "import cv2\n",
    "\n",
    "img = cv2.imread(\"images/img.jpg\")\n",
    "\n",
    "rotate_90 = cv2.rotate(img, cv2.ROTATE_90_CLOCKWISE)  # 시계 방향으로 90도 회전\n",
    "\n",
    "cv2.imshow(\"img\", img)\n",
    "cv2.imshow(\"rotate_90\", rotate_90)\n",
    "\n",
    "cv2.waitKey(0)\n",
    "cv2.destroyAllWindows()"
   ]
  },
  {
   "cell_type": "markdown",
   "metadata": {},
   "source": [
    "## 180도 회전"
   ]
  },
  {
   "cell_type": "code",
   "execution_count": 2,
   "metadata": {},
   "outputs": [],
   "source": [
    "import cv2\n",
    "\n",
    "img = cv2.imread(\"images/img.jpg\")\n",
    "\n",
    "rotate_180 = cv2.rotate(img, cv2.ROTATE_180)  # 180도 회전\n",
    "\n",
    "cv2.imshow(\"img\", img)\n",
    "cv2.imshow(\"rotate_180\", rotate_180)\n",
    "\n",
    "cv2.waitKey(0)\n",
    "cv2.destroyAllWindows()"
   ]
  },
  {
   "attachments": {},
   "cell_type": "markdown",
   "metadata": {},
   "source": [
    "## 시계 반대 방향 90도 회전 (시계 방향 270도 회전)"
   ]
  },
  {
   "cell_type": "code",
   "execution_count": 4,
   "metadata": {},
   "outputs": [],
   "source": [
    "import cv2\n",
    "\n",
    "img = cv2.imread(\"images/img.jpg\")\n",
    "\n",
    "rotate_270 = cv2.rotate(img, cv2.ROTATE_90_COUNTERCLOCKWISE)  # 시계 반대 방향으로 90도 회전\n",
    "\n",
    "cv2.imshow(\"img\", img)\n",
    "cv2.imshow(\"rotate_270\", rotate_270)\n",
    "\n",
    "cv2.waitKey(0)-\n",
    "cv2.destroyAllWindows()"
   ]
  }
 ],
 "metadata": {
  "kernelspec": {
   "display_name": "myenv",
   "language": "python",
   "name": "python3"
  },
  "language_info": {
   "codemirror_mode": {
    "name": "ipython",
    "version": 3
   },
   "file_extension": ".py",
   "mimetype": "text/x-python",
   "name": "python",
   "nbconvert_exporter": "python",
   "pygments_lexer": "ipython3",
   "version": "3.10.8 | packaged by conda-forge | (main, Nov 24 2022, 14:07:00) [MSC v.1916 64 bit (AMD64)]"
  },
  "orig_nbformat": 4,
  "vscode": {
   "interpreter": {
    "hash": "2551f07b7acac0cb7e1045f3e853c9e6d3f250888dfecbe6c4c45e281b91d7e8"
   }
  }
 },
 "nbformat": 4,
 "nbformat_minor": 2
}
