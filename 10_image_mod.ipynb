{
 "cells": [
  {
   "attachments": {},
   "cell_type": "markdown",
   "metadata": {},
   "source": [
    "# 10. 이미지 변형"
   ]
  },
  {
   "cell_type": "markdown",
   "metadata": {},
   "source": [
    "## 흑백"
   ]
  },
  {
   "attachments": {},
   "cell_type": "markdown",
   "metadata": {},
   "source": [
    "이미지를 흑백으로 읽음"
   ]
  },
  {
   "cell_type": "code",
   "execution_count": 1,
   "metadata": {},
   "outputs": [],
   "source": [
    "import cv2\n",
    "\n",
    "img = cv2.imread(\"images/img.jpg\", cv2.IMREAD_GRAYSCALE)\n",
    "\n",
    "cv2.imshow(\"img\", img)\n",
    "\n",
    "cv2.waitKey(0)\n",
    "cv2.destroyAllWindows()"
   ]
  },
  {
   "attachments": {},
   "cell_type": "markdown",
   "metadata": {},
   "source": [
    "불러온 이미지를 흑백으로 변경"
   ]
  },
  {
   "cell_type": "code",
   "execution_count": 2,
   "metadata": {},
   "outputs": [],
   "source": [
    "import cv2\n",
    "\n",
    "img = cv2.imread(\"images/img.jpg\")\n",
    "dst = cv2.cvtColor(img, cv2.COLOR_BGR2GRAY)\n",
    "\n",
    "cv2.imshow(\"img\", img)\n",
    "cv2.imshow(\"gray\", dst)\n",
    "\n",
    "cv2.waitKey(0)\n",
    "cv2.destroyAllWindows()"
   ]
  },
  {
   "cell_type": "markdown",
   "metadata": {},
   "source": [
    "## 흐림"
   ]
  },
  {
   "attachments": {},
   "cell_type": "markdown",
   "metadata": {},
   "source": [
    "### 가우시안 블러"
   ]
  },
  {
   "attachments": {},
   "cell_type": "markdown",
   "metadata": {},
   "source": [
    "커널 사이즈 변화에 따른 흐림"
   ]
  },
  {
   "cell_type": "code",
   "execution_count": 1,
   "metadata": {},
   "outputs": [],
   "source": [
    "import cv2\n",
    "\n",
    "img = cv2.imread(\"images/img.jpg\")\n",
    "\n",
    "# (3, 3), (5, 5), (7, 7)\n",
    "kernel_3 = cv2.GaussianBlur(img, (3, 3), 0)\n",
    "kernel_5 = cv2.GaussianBlur(img, (5, 5), 0)\n",
    "kernel_7 = cv2.GaussianBlur(img, (7, 7), 0)\n",
    "\n",
    "\n",
    "cv2.imshow(\"img\", img)\n",
    "cv2.imshow(\"kernel_3\", kernel_3)\n",
    "cv2.imshow(\"kernel_5\", kernel_5)\n",
    "cv2.imshow(\"kernel_7\", kernel_7)\n",
    "\n",
    "cv2.waitKey(0)\n",
    "cv2.destroyAllWindows()"
   ]
  },
  {
   "attachments": {},
   "cell_type": "markdown",
   "metadata": {},
   "source": [
    "표준편차 변화에 따른 흐림"
   ]
  },
  {
   "cell_type": "code",
   "execution_count": 3,
   "metadata": {},
   "outputs": [],
   "source": [
    "import cv2\n",
    "\n",
    "img = cv2.imread(\"images/img.jpg\")\n",
    "\n",
    "sigma_1 = cv2.GaussianBlur(img, (0, 0), 1)  # sigmaX: 가우시안 커널의 x 방향의 표준편차\n",
    "sigma_2 = cv2.GaussianBlur(img, (0, 0), 2)\n",
    "sigma_3 = cv2.GaussianBlur(img, (0, 0), 3)\n",
    "\n",
    "cv2.imshow(\"img\", img)\n",
    "cv2.imshow(\"sigma_1\", sigma_1)\n",
    "cv2.imshow(\"sigma_2\", sigma_2)\n",
    "cv2.imshow(\"sigma_3\", sigma_3)\n",
    "\n",
    "cv2.waitKey(0)\n",
    "cv2.destroyAllWindows()"
   ]
  },
  {
   "attachments": {},
   "cell_type": "markdown",
   "metadata": {},
   "source": [
    "## 원근"
   ]
  },
  {
   "attachments": {},
   "cell_type": "markdown",
   "metadata": {},
   "source": [
    "사다리꼴 이미지 펼치기"
   ]
  },
  {
   "cell_type": "code",
   "execution_count": 9,
   "metadata": {},
   "outputs": [],
   "source": [
    "import cv2\n",
    "import numpy as np\n",
    "\n",
    "img = cv2.imread(\"images/newspaper.jpg\")\n",
    "\n",
    "width, height = 640, 350  # 가로 크기 640, 세로 크기 350 으로 결과물 출력\n",
    "# 좌상, 우상, 우하, 좌하 (시계 방향으로 4 지점 정의)\n",
    "src = np.array(\n",
    "    [\n",
    "        [511, 352],\n",
    "        [1008, 345],\n",
    "        [1122, 594],\n",
    "        [455, 604],\n",
    "    ],\n",
    "    dtype=np.float32,\n",
    ")  # input 4개 지점\n",
    "dst = np.array(\n",
    "    [\n",
    "        [0, 0],\n",
    "        [width, 0],\n",
    "        [width, height],\n",
    "        [0, height],\n",
    "    ],\n",
    "    dtype=np.float32,\n",
    ")  # output 4개 지점\n",
    "\n",
    "matrix = cv2.getPerspectiveTransform(src, dst)  # Matrix 얻어옴\n",
    "result = cv2.warpPerspective(img, matrix, (width, height))  # matrix 대로 변환을 함\n",
    "\n",
    "cv2.imshow(\"img\", img)\n",
    "cv2.imshow(\"result\", result)\n",
    "\n",
    "cv2.waitKey(0)\n",
    "cv2.destroyAllWindows()"
   ]
  },
  {
   "attachments": {},
   "cell_type": "markdown",
   "metadata": {},
   "source": [
    "회전된 이미지 올바로 세우기"
   ]
  },
  {
   "cell_type": "code",
   "execution_count": 17,
   "metadata": {},
   "outputs": [],
   "source": [
    "import cv2\n",
    "import numpy as np\n",
    "\n",
    "img = cv2.imread(\"images/poker.jpg\")\n",
    "\n",
    "width, height = 530, 710\n",
    "# 좌상, 우상, 우하, 좌하 (시계 방향으로 4 지점 정의)\n",
    "src = np.array(\n",
    "    [\n",
    "        [705, 137],\n",
    "        [1133, 414],\n",
    "        [726, 1007],\n",
    "        [276, 700],\n",
    "    ],\n",
    "    dtype=np.float32,\n",
    ")  # input 4개 지점\n",
    "dst = np.array(\n",
    "    [\n",
    "        [0, 0],\n",
    "        [width, 0],\n",
    "        [width, height],\n",
    "        [0, height],\n",
    "    ],\n",
    "    dtype=np.float32,\n",
    ")  # output 4개 지점\n",
    "\n",
    "matrix = cv2.getPerspectiveTransform(src, dst)  # Matrix 얻어옴\n",
    "result = cv2.warpPerspective(img, matrix, (width, height))  # matrix 대로 변환을 함\n",
    "\n",
    "cv2.imshow(\"img\", img)\n",
    "cv2.imshow(\"result\", result)\n",
    "\n",
    "cv2.waitKey(0)\n",
    "cv2.destroyAllWindows()"
   ]
  },
  {
   "attachments": {},
   "cell_type": "markdown",
   "metadata": {},
   "source": [
    "## 미니 프로젝트: 반자동 문서 스캐너"
   ]
  },
  {
   "attachments": {},
   "cell_type": "markdown",
   "metadata": {},
   "source": [
    "### 마우스 이벤트 등록"
   ]
  },
  {
   "cell_type": "code",
   "execution_count": 10,
   "metadata": {},
   "outputs": [
    {
     "name": "stdout",
     "output_type": "stream",
     "text": [
      "왼쪽 버튼 Down\n",
      "572 339\n",
      "왼쪽 버튼 Up\n",
      "917 485\n",
      "왼쪽 버튼 Down\n",
      "677 660\n",
      "왼쪽 버튼 Up\n",
      "677 660\n",
      "왼쪽 버튼 Double Click\n",
      "왼쪽 버튼 Up\n",
      "677 660\n"
     ]
    }
   ],
   "source": [
    "import cv2\n",
    "\n",
    "\n",
    "def mouse_handler(event, x, y, flags, param):\n",
    "    if event == cv2.EVENT_LBUTTONDOWN:  # 마우스 왼쪽 버튼 Down\n",
    "        print(\"왼쪽 버튼 Down\")\n",
    "        print(x, y)\n",
    "    elif event == cv2.EVENT_LBUTTONUP:  # 마우스 왼쪽 버튼 Up\n",
    "        print(\"왼쪽 버튼 Up\")\n",
    "        print(x, y)\n",
    "    elif event == cv2.EVENT_LBUTTONDBLCLK:  # 마우스 왼쪽 버튼 더블 클릭\n",
    "        print(\"왼쪽 버튼 Double Click\")\n",
    "    # elif event == cv2.EVENT_MOUSEMOVE:  # 마우스 이동\n",
    "    #     print(\"마우스 이동\")\n",
    "    elif event == cv2.EVENT_RBUTTONDOWN:  # 오른쪽 버튼 Down\n",
    "        print(\"오른쪽 버튼 Down\")\n",
    "\n",
    "\n",
    "img = cv2.imread(\"images/poker.jpg\")\n",
    "\n",
    "cv2.namedWindow(\"img\")  # img 란 이름의 윈도우를 먼저 만들어두는 것. 여기에 마우스 이벤트를 처리하기 위한 핸들러 적용\n",
    "cv2.setMouseCallback(\"img\", mouse_handler)\n",
    "\n",
    "cv2.imshow(\"img\", img)\n",
    "\n",
    "cv2.waitKey(0)\n",
    "cv2.destroyAllWindows()"
   ]
  },
  {
   "attachments": {},
   "cell_type": "markdown",
   "metadata": {},
   "source": [
    "### 프로젝트"
   ]
  },
  {
   "cell_type": "code",
   "execution_count": 34,
   "metadata": {},
   "outputs": [],
   "source": [
    "import cv2\n",
    "import numpy as np\n",
    "\n",
    "src_img = cv2.imread(\"images/poker.jpg\")\n",
    "point_list = []\n",
    "drawing = False  # 선을 그릴지 여부\n",
    "\n",
    "COLOR = (255, 0, 255)  # Magenta\n",
    "THICKNESS = 3\n",
    "\n",
    "\n",
    "def mouse_handler(event, x, y, flags, param):\n",
    "    global drawing\n",
    "    dst_img = src_img.copy()\n",
    "\n",
    "    # 영역 꼭짓점 선택\n",
    "    if event == cv2.EVENT_LBUTTONDOWN:\n",
    "        drawing = True  # 선을 그리기 시작\n",
    "        point_list.append((x, y))\n",
    "\n",
    "    # 영역 선택 초기화\n",
    "    if event == cv2.EVENT_RBUTTONDOWN:\n",
    "        point_list.clear()\n",
    "        drawing = False\n",
    "\n",
    "    if drawing:\n",
    "        prev_point = None  # 직선의 시작점\n",
    "        for point in point_list:\n",
    "            cv2.circle(dst_img, point, 15, COLOR, cv2.FILLED)\n",
    "            if prev_point:\n",
    "                cv2.line(dst_img, prev_point, point, COLOR, THICKNESS, cv2.LINE_AA)\n",
    "            prev_point = point\n",
    "\n",
    "        next_point = (x, y)\n",
    "        if len(point_list) >= 4:\n",
    "            next_point = point_list[0]  # 첫 번째 클릭한 지점\n",
    "            show_result()  # 결과 출력\n",
    "        cv2.line(dst_img, prev_point, next_point, COLOR, THICKNESS, cv2.LINE_AA)\n",
    "\n",
    "    cv2.imshow(\"img\", dst_img)\n",
    "\n",
    "\n",
    "def show_result():\n",
    "    width, height = 530, 710\n",
    "    src = np.float32(point_list[:4])\n",
    "    dst = np.array(\n",
    "        [\n",
    "            [0, 0],\n",
    "            [width, 0],\n",
    "            [width, height],\n",
    "            [0, height],\n",
    "        ],\n",
    "        dtype=np.float32,\n",
    "    )\n",
    "\n",
    "    matrix = cv2.getPerspectiveTransform(src, dst)\n",
    "    result = cv2.warpPerspective(src_img, matrix, (width, height))\n",
    "    cv2.imshow(\"result\", result)\n",
    "\n",
    "\n",
    "cv2.namedWindow(\"img\")  # img 란 이름의 윈도우를 먼저 만들어두는 것. 여기에 마우스 이벤트를 처리하기 위한 핸들러 적용\n",
    "cv2.setMouseCallback(\"img\", mouse_handler)\n",
    "\n",
    "cv2.imshow(\"img\", src_img)\n",
    "\n",
    "cv2.waitKey(0)\n",
    "cv2.destroyAllWindows()"
   ]
  }
 ],
 "metadata": {
  "kernelspec": {
   "display_name": "myenv",
   "language": "python",
   "name": "python3"
  },
  "language_info": {
   "codemirror_mode": {
    "name": "ipython",
    "version": 3
   },
   "file_extension": ".py",
   "mimetype": "text/x-python",
   "name": "python",
   "nbconvert_exporter": "python",
   "pygments_lexer": "ipython3",
   "version": "3.10.8"
  },
  "orig_nbformat": 4,
  "vscode": {
   "interpreter": {
    "hash": "2551f07b7acac0cb7e1045f3e853c9e6d3f250888dfecbe6c4c45e281b91d7e8"
   }
  }
 },
 "nbformat": 4,
 "nbformat_minor": 2
}
