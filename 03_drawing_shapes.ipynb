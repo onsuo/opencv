{
 "cells": [
  {
   "attachments": {},
   "cell_type": "markdown",
   "metadata": {},
   "source": [
    "# 3. 도형 그리기"
   ]
  },
  {
   "attachments": {},
   "cell_type": "markdown",
   "metadata": {},
   "source": [
    "## 빈 스케치북 만들기"
   ]
  },
  {
   "cell_type": "code",
   "execution_count": 28,
   "metadata": {},
   "outputs": [],
   "source": [
    "import cv2\n",
    "import numpy as np\n",
    "\n",
    "# 세로 480 x 가로 640, 3 Channel (RGB) 에 해당하는 스케치북 만들기\n",
    "img = np.zeros((480, 640, 3), dtype=np.uint8)\n",
    "img[:] = (255, 255, 255)  # 전체 공간을 흰색으로 채우기\n",
    "# print(img)\n",
    "cv2.imshow(\"img\", img)\n",
    "cv2.waitKey(0)\n",
    "cv2.destroyAllWindows()"
   ]
  },
  {
   "attachments": {},
   "cell_type": "markdown",
   "metadata": {},
   "source": [
    "## 일부 영역 색칠"
   ]
  },
  {
   "cell_type": "code",
   "execution_count": 40,
   "metadata": {},
   "outputs": [],
   "source": [
    "import cv2\n",
    "import numpy as np\n",
    "\n",
    "img = np.zeros((480, 640, 3), dtype=np.uint8)\n",
    "img[100:200, 200:300] = (255, 255, 255)  # [세로 영역, 가로 영역]\n",
    "img[150:200, 200:250, 0] = 120\n",
    "cv2.imshow(\"img\", img)\n",
    "cv2.waitKey(0)\n",
    "cv2.destroyAllWindows()"
   ]
  },
  {
   "attachments": {},
   "cell_type": "markdown",
   "metadata": {},
   "source": [
    "## 직선\n",
    "\n",
    "직선의 종류 (line type)\n",
    "\n",
    "1. cv2.LINE_4: 상하좌우 4 방향으로 연결된 선\n",
    "2. cv2.LINE_8: 대각선을 포함한 8 방향으로 연결된 선 (기본값)\n",
    "3. cv2.LINE_AA: 부드러운 선 (anti-aliasing)"
   ]
  },
  {
   "cell_type": "code",
   "execution_count": 44,
   "metadata": {},
   "outputs": [],
   "source": [
    "import cv2\n",
    "import numpy as np\n",
    "\n",
    "img = np.zeros((480, 640, 3), dtype=np.uint8)\n",
    "\n",
    "COLOR = (0, 255, 255)  # 색깔: BGR -> Yellow\n",
    "THICKNESS = 3  # 두께\n",
    "\n",
    "# 그릴 위치, 시작점, 끝점, 색깔, 두께, 선 종류\n",
    "cv2.line(img, (50, 100), (400, 50), COLOR, THICKNESS, cv2.LINE_8)\n",
    "cv2.line(img, (50, 200), (400, 150), COLOR, THICKNESS, cv2.LINE_4)\n",
    "cv2.line(img, (50, 300), (400, 250), COLOR, THICKNESS, cv2.LINE_AA)\n",
    "\n",
    "cv2.imshow(\"img\", img)\n",
    "cv2.waitKey(0)\n",
    "cv2.destroyAllWindows()"
   ]
  },
  {
   "cell_type": "markdown",
   "metadata": {},
   "source": [
    "## 원"
   ]
  },
  {
   "cell_type": "code",
   "execution_count": 53,
   "metadata": {},
   "outputs": [],
   "source": [
    "import cv2\n",
    "import numpy as np\n",
    "\n",
    "img = np.zeros((480, 640, 3), dtype=np.uint8)\n",
    "\n",
    "COLOR = (255, 255, 0)  # 색깔: BGR -> Cyan\n",
    "RADIUS = 50  # 반지름\n",
    "THICKNESS = 10  # 두께\n",
    "\n",
    "# 그릴 위치, 원의 중심점, 반지름, 색깔, 두께, 선 종류\n",
    "cv2.circle(img, (200, 100), RADIUS, COLOR, THICKNESS, cv2.LINE_AA)  # 속이 빈 원\n",
    "# cv2.circle(img, (200, 100), RADIUS, (0, 0, 100), cv2.FILLED, cv2.LINE_AA)  # 선 두께 0, 속 채움\n",
    "cv2.circle(img, (400, 100), RADIUS, COLOR, cv2.FILLED, cv2.LINE_AA)  # 속이 찬 원\n",
    "\n",
    "cv2.imshow(\"img\", img)\n",
    "cv2.waitKey(0)\n",
    "cv2.destroyAllWindows()"
   ]
  },
  {
   "cell_type": "markdown",
   "metadata": {},
   "source": [
    "## 사각형"
   ]
  },
  {
   "cell_type": "code",
   "execution_count": 59,
   "metadata": {},
   "outputs": [],
   "source": [
    "import cv2\n",
    "import numpy as np\n",
    "\n",
    "img = np.zeros((480, 640, 3), dtype=np.uint8)\n",
    "\n",
    "COLOR = (0, 255, 0)  # 색깔: BGR -> Green\n",
    "THICKNESS = 3  # 두께\n",
    "\n",
    "# 그릴 위치, 좌표1, 좌표2, 색깔, 두께, 선 종류\n",
    "cv2.rectangle(img, (100, 100), (200, 200), COLOR, THICKNESS)  # 속이 빈 사각형\n",
    "cv2.rectangle(img, (300, 100), (400, 200), COLOR, cv2.FILLED)  # 속이 찬 사각형\n",
    "\n",
    "cv2.imshow(\"img\", img)\n",
    "cv2.waitKey(0)\n",
    "cv2.destroyAllWindows()"
   ]
  },
  {
   "cell_type": "markdown",
   "metadata": {},
   "source": [
    "## 다각형"
   ]
  },
  {
   "cell_type": "code",
   "execution_count": 84,
   "metadata": {},
   "outputs": [],
   "source": [
    "import cv2\n",
    "import numpy as np\n",
    "\n",
    "img = np.zeros((480, 640, 3), dtype=np.uint8)\n",
    "\n",
    "COLOR = (0, 0, 255)  # 색깔: BGR -> Red\n",
    "THICKNESS = 3  # 두께\n",
    "\n",
    "PTS_1 = np.array(\n",
    "    [\n",
    "        [100, 100],\n",
    "        [200, 100],\n",
    "        [100, 200],\n",
    "    ]\n",
    ")\n",
    "PTS_2 = np.array(\n",
    "    [\n",
    "        [200, 100],\n",
    "        [300, 100],\n",
    "        [300, 200],\n",
    "    ]\n",
    ")\n",
    "\n",
    "# 그릴 위치, 그릴 좌표들, 닫힘 여부, 색깔, 두께, 선 종류\n",
    "cv2.polylines(img, [PTS_1], True, COLOR, THICKNESS, cv2.LINE_AA)\n",
    "cv2.polylines(img, [PTS_2], True, COLOR, THICKNESS, cv2.LINE_AA)\n",
    "cv2.polylines(\n",
    "    img, [PTS_1 + [300, 0], PTS_2 + [300, 0]], True, COLOR, THICKNESS, cv2.LINE_AA\n",
    ")  # 속이 빈 다각형\n",
    "\n",
    "PTS_3 = np.array(\n",
    "    [\n",
    "        [\n",
    "            [100, 300],\n",
    "            [200, 300],\n",
    "            [100, 400],\n",
    "        ],\n",
    "        [\n",
    "            [200, 300],\n",
    "            [300, 300],\n",
    "            [300, 400],\n",
    "        ],\n",
    "    ]\n",
    ")\n",
    "# PTS_3 = np.array([[[100, 200], [200, 200], [100, 300], [200, 300]]])\n",
    "\n",
    "# 그릴 위치, 그릴 좌표들, 색깔, 선 종류\n",
    "cv2.fillPoly(img, PTS_3, COLOR, cv2.LINE_AA)  # 꽉 찬 다각형\n",
    "\n",
    "cv2.imshow(\"img\", img)\n",
    "cv2.waitKey(0)\n",
    "cv2.destroyAllWindows()"
   ]
  }
 ],
 "metadata": {
  "kernelspec": {
   "display_name": "myenv",
   "language": "python",
   "name": "python3"
  },
  "language_info": {
   "codemirror_mode": {
    "name": "ipython",
    "version": 3
   },
   "file_extension": ".py",
   "mimetype": "text/x-python",
   "name": "python",
   "nbconvert_exporter": "python",
   "pygments_lexer": "ipython3",
   "version": "3.10.8 | packaged by conda-forge | (main, Nov 24 2022, 14:07:00) [MSC v.1916 64 bit (AMD64)]"
  },
  "orig_nbformat": 4,
  "vscode": {
   "interpreter": {
    "hash": "2551f07b7acac0cb7e1045f3e853c9e6d3f250888dfecbe6c4c45e281b91d7e8"
   }
  }
 },
 "nbformat": 4,
 "nbformat_minor": 2
}
