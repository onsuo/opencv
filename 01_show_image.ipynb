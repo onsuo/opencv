{
 "cells": [
  {
   "attachments": {},
   "cell_type": "markdown",
   "metadata": {},
   "source": [
    "# 환경설정\n",
    "Anaconda Prompt 에서 다음 명령 수행\n",
    "\n",
    "> pip install opencv-python"
   ]
  },
  {
   "cell_type": "code",
   "execution_count": 13,
   "metadata": {},
   "outputs": [
    {
     "data": {
      "text/plain": [
       "'4.7.0'"
      ]
     },
     "execution_count": 13,
     "metadata": {},
     "output_type": "execute_result"
    }
   ],
   "source": [
    "import cv2\n",
    "\n",
    "cv2.__version__"
   ]
  },
  {
   "attachments": {},
   "cell_type": "markdown",
   "metadata": {},
   "source": [
    "# OpenCV (Computer Vision)\n",
    "\n",
    "다양한 영상 (이미지) / 동영상 처리에 사용되는 오픈소스 라이브러리"
   ]
  },
  {
   "attachments": {},
   "cell_type": "markdown",
   "metadata": {},
   "source": [
    "# 1. 이미지 출력"
   ]
  },
  {
   "cell_type": "code",
   "execution_count": 14,
   "metadata": {},
   "outputs": [],
   "source": [
    "img = cv2.imread(\"img.jpg\")  # 해당 경로의 파일 읽어오기\n",
    "cv2.imshow(\"img\", img)  # img 라는 이름의 창에 img 를 표시\n",
    "cv2.waitKey(0)  # 지정된 시간(ms) 동안 사용자 키 입력 대기\n",
    "cv2.destroyAllWindows()  # 모든 창 닫기"
   ]
  },
  {
   "attachments": {},
   "cell_type": "markdown",
   "metadata": {},
   "source": [
    "## 읽기 옵션\n",
    "\n",
    "1. cv2.IMREAD_COLOR: 컬러 이미지. 투명 영역은 무시 (기본값)\n",
    "2. cv2.IMREAD_GRAYSCALE: 흑백 이미지\n",
    "3. cv2.IMREAD_UNCHANGED: 투명 영역까지 포함"
   ]
  },
  {
   "cell_type": "code",
   "execution_count": 15,
   "metadata": {},
   "outputs": [],
   "source": [
    "import cv2\n",
    "\n",
    "img_color = cv2.imread(\"img.jpg\", cv2.IMREAD_COLOR)\n",
    "img_grayscale = cv2.imread(\"img.jpg\", cv2.IMREAD_GRAYSCALE)\n",
    "img_unchanged = cv2.imread(\"img.jpg\", cv2.IMREAD_UNCHANGED)\n",
    "\n",
    "cv2.imshow(\"img_color\", img_color)\n",
    "cv2.imshow(\"img_grayscale\", img_grayscale)\n",
    "cv2.imshow(\"img_unchanged\", img_unchanged)\n",
    "\n",
    "cv2.waitKey(0)\n",
    "cv2.destroyAllWindows()"
   ]
  },
  {
   "attachments": {},
   "cell_type": "markdown",
   "metadata": {},
   "source": [
    "## Shape\n",
    "\n",
    "이미지의 height, width, channel 정보"
   ]
  },
  {
   "cell_type": "code",
   "execution_count": 16,
   "metadata": {},
   "outputs": [
    {
     "data": {
      "text/plain": [
       "(391, 640, 3)"
      ]
     },
     "execution_count": 16,
     "metadata": {},
     "output_type": "execute_result"
    }
   ],
   "source": [
    "import cv2\n",
    "\n",
    "img = cv2.imread(\"img.jpg\")\n",
    "img.shape  # 세로, 가로, Channel"
   ]
  }
 ],
 "metadata": {
  "kernelspec": {
   "display_name": "myenv",
   "language": "python",
   "name": "python3"
  },
  "language_info": {
   "codemirror_mode": {
    "name": "ipython",
    "version": 3
   },
   "file_extension": ".py",
   "mimetype": "text/x-python",
   "name": "python",
   "nbconvert_exporter": "python",
   "pygments_lexer": "ipython3",
   "version": "3.10.8 | packaged by conda-forge | (main, Nov 24 2022, 14:07:00) [MSC v.1916 64 bit (AMD64)]"
  },
  "orig_nbformat": 4,
  "vscode": {
   "interpreter": {
    "hash": "2551f07b7acac0cb7e1045f3e853c9e6d3f250888dfecbe6c4c45e281b91d7e8"
   }
  }
 },
 "nbformat": 4,
 "nbformat_minor": 2
}
