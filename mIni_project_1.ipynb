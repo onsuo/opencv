{
 "cells": [
  {
   "attachments": {},
   "cell_type": "markdown",
   "metadata": {},
   "source": [
    "# 미니 프로젝트: 반자동 문서 스캐너"
   ]
  },
  {
   "attachments": {},
   "cell_type": "markdown",
   "metadata": {},
   "source": [
    "## 마우스 이벤트 등록"
   ]
  },
  {
   "cell_type": "code",
   "execution_count": null,
   "metadata": {},
   "outputs": [
    {
     "name": "stdout",
     "output_type": "stream",
     "text": [
      "왼쪽 버튼 Down\n",
      "572 339\n",
      "왼쪽 버튼 Up\n",
      "917 485\n",
      "왼쪽 버튼 Down\n",
      "677 660\n",
      "왼쪽 버튼 Up\n",
      "677 660\n",
      "왼쪽 버튼 Double Click\n",
      "왼쪽 버튼 Up\n",
      "677 660\n"
     ]
    }
   ],
   "source": [
    "import cv2\n",
    "\n",
    "\n",
    "def mouse_handler(event, x, y, flags, param):\n",
    "    if event == cv2.EVENT_LBUTTONDOWN:  # 마우스 왼쪽 버튼 Down\n",
    "        print(\"왼쪽 버튼 Down\")\n",
    "        print(x, y)\n",
    "    elif event == cv2.EVENT_LBUTTONUP:  # 마우스 왼쪽 버튼 Up\n",
    "        print(\"왼쪽 버튼 Up\")\n",
    "        print(x, y)\n",
    "    elif event == cv2.EVENT_LBUTTONDBLCLK:  # 마우스 왼쪽 버튼 더블 클릭\n",
    "        print(\"왼쪽 버튼 Double Click\")\n",
    "    # elif event == cv2.EVENT_MOUSEMOVE:  # 마우스 이동\n",
    "    #     print(\"마우스 이동\")\n",
    "    elif event == cv2.EVENT_RBUTTONDOWN:  # 오른쪽 버튼 Down\n",
    "        print(\"오른쪽 버튼 Down\")\n",
    "\n",
    "\n",
    "img = cv2.imread(\"images/poker.jpg\")\n",
    "\n",
    "cv2.namedWindow(\"img\")  # img 란 이름의 윈도우를 먼저 만들어두는 것. 여기에 마우스 이벤트를 처리하기 위한 핸들러 적용\n",
    "cv2.setMouseCallback(\"img\", mouse_handler)\n",
    "\n",
    "cv2.imshow(\"img\", img)\n",
    "\n",
    "cv2.waitKey(0)\n",
    "cv2.destroyAllWindows()"
   ]
  },
  {
   "attachments": {},
   "cell_type": "markdown",
   "metadata": {},
   "source": [
    "## 프로젝트"
   ]
  },
  {
   "cell_type": "code",
   "execution_count": null,
   "metadata": {},
   "outputs": [],
   "source": [
    "import cv2\n",
    "import numpy as np\n",
    "\n",
    "src_img = cv2.imread(\"images/poker.jpg\")\n",
    "point_list = []\n",
    "drawing = False  # 선을 그릴지 여부\n",
    "\n",
    "COLOR = (255, 0, 255)  # Magenta\n",
    "THICKNESS = 3\n",
    "\n",
    "\n",
    "def mouse_handler(event, x, y, flags, param):\n",
    "    global drawing\n",
    "    dst_img = src_img.copy()\n",
    "\n",
    "    # 영역 꼭짓점 선택\n",
    "    if event == cv2.EVENT_LBUTTONDOWN:\n",
    "        drawing = True  # 선을 그리기 시작\n",
    "        point_list.append((x, y))\n",
    "\n",
    "    # 영역 선택 초기화\n",
    "    if event == cv2.EVENT_RBUTTONDOWN:\n",
    "        point_list.clear()\n",
    "        drawing = False\n",
    "\n",
    "    if drawing:\n",
    "        prev_point = None  # 직선의 시작점\n",
    "        for point in point_list:\n",
    "            cv2.circle(dst_img, point, 15, COLOR, cv2.FILLED)\n",
    "            if prev_point:\n",
    "                cv2.line(dst_img, prev_point, point, COLOR, THICKNESS, cv2.LINE_AA)\n",
    "            prev_point = point\n",
    "\n",
    "        next_point = (x, y)\n",
    "        if len(point_list) >= 4:\n",
    "            next_point = point_list[0]  # 첫 번째 클릭한 지점\n",
    "            show_result()  # 결과 출력\n",
    "        cv2.line(dst_img, prev_point, next_point, COLOR, THICKNESS, cv2.LINE_AA)\n",
    "\n",
    "    cv2.imshow(\"img\", dst_img)\n",
    "\n",
    "\n",
    "def show_result():\n",
    "    width, height = 530, 710\n",
    "    src = np.float32(point_list[:4])\n",
    "    dst = np.array(\n",
    "        [\n",
    "            [0, 0],\n",
    "            [width, 0],\n",
    "            [width, height],\n",
    "            [0, height],\n",
    "        ],\n",
    "        dtype=np.float32,\n",
    "    )\n",
    "\n",
    "    matrix = cv2.getPerspectiveTransform(src, dst)\n",
    "    result = cv2.warpPerspective(src_img, matrix, (width, height))\n",
    "    cv2.imshow(\"result\", result)\n",
    "\n",
    "\n",
    "cv2.namedWindow(\"img\")  # img 란 이름의 윈도우를 먼저 만들어두는 것. 여기에 마우스 이벤트를 처리하기 위한 핸들러 적용\n",
    "cv2.setMouseCallback(\"img\", mouse_handler)\n",
    "\n",
    "cv2.imshow(\"img\", src_img)\n",
    "\n",
    "cv2.waitKey(0)\n",
    "cv2.destroyAllWindows()"
   ]
  }
 ],
 "metadata": {
  "kernelspec": {
   "display_name": "myenv",
   "language": "python",
   "name": "python3"
  },
  "language_info": {
   "name": "python",
   "version": "3.10.8 | packaged by conda-forge | (main, Nov 24 2022, 14:07:00) [MSC v.1916 64 bit (AMD64)]"
  },
  "orig_nbformat": 4,
  "vscode": {
   "interpreter": {
    "hash": "2551f07b7acac0cb7e1045f3e853c9e6d3f250888dfecbe6c4c45e281b91d7e8"
   }
  }
 },
 "nbformat": 4,
 "nbformat_minor": 2
}
